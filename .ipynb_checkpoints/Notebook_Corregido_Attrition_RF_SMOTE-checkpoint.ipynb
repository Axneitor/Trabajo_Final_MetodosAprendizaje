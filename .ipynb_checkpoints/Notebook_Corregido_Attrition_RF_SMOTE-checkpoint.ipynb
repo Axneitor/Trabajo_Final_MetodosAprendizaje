{
 "cells": [
  {
   "cell_type": "markdown",
   "id": "417c66cf",
   "metadata": {},
   "source": [
    "# Análisis de Clasificación con Random Forest y SMOTE\n",
    "Este notebook corrige errores comunes al trabajar con PCA y modelos de clasificación binaria usando la variable 'Attrition'."
   ]
  },
  {
   "cell_type": "code",
   "execution_count": null,
   "id": "36d2686b",
   "metadata": {},
   "outputs": [],
   "source": [
    "# 1. Importación de librerías\n",
    "import pandas as pd\n",
    "from sklearn.model_selection import train_test_split\n",
    "from sklearn.preprocessing import RobustScaler\n",
    "from sklearn.decomposition import PCA\n",
    "from sklearn.ensemble import RandomForestClassifier\n",
    "from sklearn.metrics import accuracy_score, precision_score, recall_score, f1_score, confusion_matrix, classification_report\n",
    "from imblearn.over_sampling import SMOTE\n",
    "import matplotlib.pyplot as plt\n",
    "import seaborn as sns"
   ]
  },
  {
   "cell_type": "code",
   "execution_count": null,
   "id": "09a780e3",
   "metadata": {},
   "outputs": [],
   "source": [
    "# 2. Cargar los datos\n",
    "df = pd.read_excel('HombresNum.xlsx')\n",
    "df['Attrition'] = df['Attrition'].map({'Yes': 1, 'No': 0})"
   ]
  },
  {
   "cell_type": "code",
   "execution_count": null,
   "id": "1f2c8417",
   "metadata": {},
   "outputs": [],
   "source": [
    "# 3. Separar características y etiqueta\n",
    "X = df.drop('Attrition', axis=1)\n",
    "y = df['Attrition']"
   ]
  },
  {
   "cell_type": "code",
   "execution_count": null,
   "id": "7f0136b1",
   "metadata": {},
   "outputs": [],
   "source": [
    "# 4. Estandarización\n",
    "scaler = RobustScaler()\n",
    "X_scaled = scaler.fit_transform(X)"
   ]
  },
  {
   "cell_type": "code",
   "execution_count": null,
   "id": "1b2cc430",
   "metadata": {},
   "outputs": [],
   "source": [
    "# 5. Aplicar PCA (opcional)\n",
    "from sklearn.decomposition import PCA\n",
    "pca = PCA(n_components=4)\n",
    "X_pca = pca.fit_transform(X_scaled)"
   ]
  },
  {
   "cell_type": "code",
   "execution_count": null,
   "id": "12b6b05c",
   "metadata": {},
   "outputs": [],
   "source": [
    "# 6. División de datos\n",
    "X_train, X_test, y_train, y_test = train_test_split(X_pca, y, stratify=y, test_size=0.3, random_state=42)"
   ]
  },
  {
   "cell_type": "code",
   "execution_count": null,
   "id": "048c1cc0",
   "metadata": {},
   "outputs": [],
   "source": [
    "# 7. Aplicar SMOTE\n",
    "smote = SMOTE(random_state=42)\n",
    "X_train_res, y_train_res = smote.fit_resample(X_train, y_train)"
   ]
  },
  {
   "cell_type": "code",
   "execution_count": null,
   "id": "11f3f69a",
   "metadata": {},
   "outputs": [],
   "source": [
    "# 8. Entrenamiento del modelo\n",
    "modelo = RandomForestClassifier(n_estimators=100, class_weight='balanced', random_state=42)\n",
    "modelo.fit(X_train_res, y_train_res)"
   ]
  },
  {
   "cell_type": "code",
   "execution_count": null,
   "id": "1e2f3301",
   "metadata": {},
   "outputs": [],
   "source": [
    "# 9. Predicción y evaluación\n",
    "y_pred = modelo.predict(X_test)\n",
    "\n",
    "accuracy = accuracy_score(y_test, y_pred)\n",
    "precision = precision_score(y_test, y_pred)\n",
    "recall = recall_score(y_test, y_pred)\n",
    "f1 = f1_score(y_test, y_pred)\n",
    "matriz = confusion_matrix(y_test, y_pred)\n",
    "\n",
    "print(\"Resultados del modelo:\")\n",
    "print(f\"Accuracy: {accuracy:.4f}\")\n",
    "print(f\"Precision: {precision:.4f}\")\n",
    "print(f\"Recall: {recall:.4f}\")\n",
    "print(f\"F1 Score: {f1:.4f}\")\n",
    "print(\"\\nMatriz de Confusión:\")\n",
    "print(matriz)\n",
    "print(\"\\nReporte de Clasificación:\")\n",
    "print(classification_report(y_test, y_pred))"
   ]
  },
  {
   "cell_type": "code",
   "execution_count": null,
   "id": "f06f5ed8",
   "metadata": {},
   "outputs": [],
   "source": [
    "# 10. Visualización de la matriz de confusión\n",
    "plt.figure(figsize=(6,4))\n",
    "sns.heatmap(matriz, annot=True, fmt='d', cmap='Blues')\n",
    "plt.title(\"Matriz de Confusión\")\n",
    "plt.xlabel(\"Predicción\")\n",
    "plt.ylabel(\"Valor Real\")\n",
    "plt.tight_layout()\n",
    "plt.show()"
   ]
  }
 ],
 "metadata": {},
 "nbformat": 4,
 "nbformat_minor": 5
}
